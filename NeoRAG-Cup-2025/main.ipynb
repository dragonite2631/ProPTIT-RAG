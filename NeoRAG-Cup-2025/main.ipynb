{
 "cells": [
  {
   "cell_type": "code",
   "execution_count": 1,
   "id": "3ccbea4a",
   "metadata": {},
   "outputs": [],
   "source": [
    "from docx import Document\n",
    "import pandas as pd\n",
    "\n",
    "\n",
    "\n",
    "doc = Document(\"CLB_PROPTIT.docx\")\n",
    "\n",
    "# Sửa chỗ FIX_ME để dùng DB mà các em muốn hoặc các em có thể tự sửa code trong lớp VectorDatabase để dùng các DB khác\n",
    "\n",
    "vector_db = None # baseline model: \"mongodb\"\n",
    "\n",
    "# Sửa chỗ FIX_ME để dùng embedding model mà các em muốn, hoặc các em có tự thêm embedding model trong lớp Embeddings\n",
    "\n",
    "embedding = None # baseline model: \"text-embedding-3-large\", \"openai\"\n",
    "\n",
    "\n",
    "\n",
    "# TODO: Embedding từng document trong file CLB_PROPTIT.docx và lưu vào DB. \n",
    "# Code dưới là sử dụng mongodb, các em có thể tự sửa lại cho phù hợp với DB mà mình đang dùng\n",
    "#--------------------Code Lưu Embedding Document vào DB--------------------------\n",
    "# cnt = 1\n",
    "# if vector_db.count_documents(\"information\") == 0:\n",
    "#     for para in doc.paragraphs:\n",
    "#         if para.text.strip():\n",
    "#             embedding_vector = embedding.encode(para.text)\n",
    "#             # Lưu vào cơ sở dữ liệu\n",
    "#             vector_db.insert_document(\n",
    "#                 collection_name=\"information\",\n",
    "#                 document={\n",
    "#                     \"title\": f\"Document {cnt}\",\n",
    "#                     \"information\": para.text,\n",
    "#                     \"embedding\": embedding_vector\n",
    "#                 }\n",
    "#             )\n",
    "#             cnt += 1\n",
    "# else:\n",
    "#     print(\"Documents already exist in the database. Skipping insertion.\")\n",
    "#------------------------------------------------------------------------------------\n",
    "\n",
    "# Các em có thể import từng hàm một để check kết quả, trick là nên chạy trên data nhỏ thôi để xem hàm có chạy đúng hay ko rồi mới chạy trên toàn bộ data\n",
    "\n",
    "\n",
    "# print(df_llm_metrics.head())\n",
    "# print(hit_k(\"CLB_PROPTIT.csv\", \"train_data_proptit.xlsx\", embedding, vector_db, k=5))\n",
    "# print(recall_k(\"CLB_PROPTIT.csv\", \"train_data_proptit.xlsx\", embedding, vector_db, k=5))\n",
    "      # precision_k(\"CLB_PROPTIT.csv\", \"train_data_proptit.xlsx\", embedding, vector_db, k=5)) # đặt là True nếu là tập train, False là tập test\n",
    "# print(ndcg_k(\"CLB_PROPTIT.csv\", \"train_data_proptit.xlsx\", embedding, vector_db, k=5)) # đặt là True nếu là tập train, False là tập test"
   ]
  },
  {
   "cell_type": "code",
   "execution_count": 2,
   "id": "4cfe5ad7",
   "metadata": {},
   "outputs": [
    {
     "name": "stderr",
     "output_type": "stream",
     "text": [
      "c:\\Users\\Admin\\anaconda3\\envs\\ragcup\\Lib\\site-packages\\torch\\nn\\modules\\module.py:1341: UserWarning: expandable_segments not supported on this platform (Triggered internally at C:\\actions-runner\\_work\\pytorch\\pytorch\\pytorch\\c10/cuda/CUDAAllocatorConfig.h:28.)\n",
      "  return t.to(\n"
     ]
    }
   ],
   "source": [
    "from metrics_rag import calculate_metrics_retrieval, calculate_metrics_llm_answer\n"
   ]
  },
  {
   "cell_type": "code",
   "execution_count": 3,
   "id": "de2b2e5a",
   "metadata": {},
   "outputs": [],
   "source": [
    "embedding = None\n",
    "vector_db = None\n",
    "df_retrieval_metrics = calculate_metrics_retrieval(\"CLB_PROPTIT.csv\", \"train_data_proptit.xlsx\", embedding, vector_db, True) # đặt là True nếu là tập train, False là tập test\n",
    "# df_llm_metrics = calculate_metrics_llm_answer(\"CLB_PROPTIT.csv\", \"train_data_proptit.xlsx\", embedding, vector_db, True) # đặt là True nếu là tập train, False là tập test\n",
    "# print(df_llm_metrics.head())"
   ]
  },
  {
   "cell_type": "markdown",
   "id": "90e34f55",
   "metadata": {},
   "source": []
  }
 ],
 "metadata": {
  "kernelspec": {
   "display_name": "ragcup",
   "language": "python",
   "name": "python3"
  },
  "language_info": {
   "codemirror_mode": {
    "name": "ipython",
    "version": 3
   },
   "file_extension": ".py",
   "mimetype": "text/x-python",
   "name": "python",
   "nbconvert_exporter": "python",
   "pygments_lexer": "ipython3",
   "version": "3.11.13"
  }
 },
 "nbformat": 4,
 "nbformat_minor": 5
}
