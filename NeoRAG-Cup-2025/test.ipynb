{
 "cells": [
  {
   "cell_type": "code",
   "execution_count": null,
   "id": "d5cb5d2a",
   "metadata": {},
   "outputs": [],
   "source": [
    "num_ones = (df[\"score\"] == 1).sum()\n",
    "print(num_ones)"
   ]
  },
  {
   "cell_type": "code",
   "execution_count": 6,
   "id": "ede95997",
   "metadata": {},
   "outputs": [
    {
     "name": "stdout",
     "output_type": "stream",
     "text": [
      "601\n"
     ]
    }
   ],
   "source": [
    "import pandas as pd\n",
    "df = pd.read_csv(\"finetune_data_proptit.csv\")\n",
    "print((df[\"score\"] == 1).sum())"
   ]
  }
 ],
 "metadata": {
  "kernelspec": {
   "display_name": "ragcup",
   "language": "python",
   "name": "python3"
  },
  "language_info": {
   "codemirror_mode": {
    "name": "ipython",
    "version": 3
   },
   "file_extension": ".py",
   "mimetype": "text/x-python",
   "name": "python",
   "nbconvert_exporter": "python",
   "pygments_lexer": "ipython3",
   "version": "3.11.13"
  }
 },
 "nbformat": 4,
 "nbformat_minor": 5
}
